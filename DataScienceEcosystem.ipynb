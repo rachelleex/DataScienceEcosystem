{
 "cells": [
  {
   "cell_type": "markdown",
   "id": "7bf9f575",
   "metadata": {},
   "source": [
    "# Data Science Tools and Ecosystem\n"
   ]
  },
  {
   "cell_type": "markdown",
   "id": "deb329cd",
   "metadata": {},
   "source": [
    "## In this notebook, Data Science Toolsand Ecosystem are summarized."
   ]
  },
  {
   "cell_type": "markdown",
   "id": "0ff42759",
   "metadata": {},
   "source": [
    "## Author: Rachel Lee"
   ]
  },
  {
   "cell_type": "markdown",
   "id": "dfe2aa6e",
   "metadata": {},
   "source": [
    "## Objectives: \n",
    "- Learn how to use Jupyter Notebooks \n",
    "- Learn how to work with Kernels \n",
    "- Learn R capabilities and RStudio environments"
   ]
  },
  {
   "cell_type": "markdown",
   "id": "1d0b76df",
   "metadata": {},
   "source": [
    "## Some ofthe popular languages that Data Scientists use are: \n",
    "1. Python \n",
    "2. R \n",
    "3. SQL"
   ]
  },
  {
   "cell_type": "markdown",
   "id": "1ceacc3a",
   "metadata": {},
   "source": [
    "## Some of the comonly used libraries used by Data Scientists include: \n",
    "1. Matplotlib\n",
    "2. SciPy\n",
    "3. NumPy"
   ]
  },
  {
   "cell_type": "markdown",
   "id": "18fb3c5d",
   "metadata": {},
   "source": [
    "|Data Science Tools| \n",
    "|---------|\n",
    "|Hadoop| \n",
    "|R Studio|\n",
    "|Jupyter Notebooks|"
   ]
  },
  {
   "cell_type": "markdown",
   "id": "87f5c568",
   "metadata": {},
   "source": [
    "### Below are a few examples of evaluating arithmetic expressions in Python "
   ]
  },
  {
   "cell_type": "markdown",
   "id": "2e6975c3",
   "metadata": {},
   "source": [
    "*This is an simple arithmetic expression to multiply then add integers*"
   ]
  },
  {
   "cell_type": "code",
   "execution_count": 3,
   "id": "eb01f673",
   "metadata": {},
   "outputs": [
    {
     "data": {
      "text/plain": [
       "17"
      ]
     },
     "execution_count": 3,
     "metadata": {},
     "output_type": "execute_result"
    }
   ],
   "source": [
    "(3*4)+5"
   ]
  },
  {
   "cell_type": "markdown",
   "id": "f793e35a",
   "metadata": {},
   "source": [
    "*This will convert 200 minutes to hours by dividng by 60*"
   ]
  },
  {
   "cell_type": "markdown",
   "id": "56990941",
   "metadata": {},
   "source": [
    "200 minutes / 60 mins = hours "
   ]
  },
  {
   "cell_type": "code",
   "execution_count": 4,
   "id": "c4499fbc",
   "metadata": {},
   "outputs": [
    {
     "data": {
      "text/plain": [
       "3.3333333333333335"
      ]
     },
     "execution_count": 4,
     "metadata": {},
     "output_type": "execute_result"
    }
   ],
   "source": [
    "200 / 60 "
   ]
  },
  {
   "cell_type": "markdown",
   "id": "1c10d20c",
   "metadata": {},
   "source": [
    "3.333 hours "
   ]
  },
  {
   "cell_type": "code",
   "execution_count": null,
   "id": "4fb13b21",
   "metadata": {},
   "outputs": [],
   "source": []
  }
 ],
 "metadata": {
  "kernelspec": {
   "display_name": "Python 3 (ipykernel)",
   "language": "python",
   "name": "python3"
  },
  "language_info": {
   "codemirror_mode": {
    "name": "ipython",
    "version": 3
   },
   "file_extension": ".py",
   "mimetype": "text/x-python",
   "name": "python",
   "nbconvert_exporter": "python",
   "pygments_lexer": "ipython3",
   "version": "3.11.4"
  }
 },
 "nbformat": 4,
 "nbformat_minor": 5
}
